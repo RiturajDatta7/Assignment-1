{
  "nbformat": 4,
  "nbformat_minor": 0,
  "metadata": {
    "colab": {
      "provenance": []
    },
    "kernelspec": {
      "name": "python3",
      "display_name": "Python 3"
    },
    "language_info": {
      "name": "python"
    }
  },
  "cells": [
    {
      "cell_type": "markdown",
      "source": [
        "ASSIGNMENT-1: Operators | Loops"
      ],
      "metadata": {
        "id": "OHRClCW90DN5"
      }
    },
    {
      "cell_type": "markdown",
      "source": [
        "Don't go Outside in Odd day\n",
        "\n",
        "Write a Python program to count the number of even and odd numbers from a series of numbers."
      ],
      "metadata": {
        "id": "SWSgz7rF0FSh"
      }
    },
    {
      "cell_type": "code",
      "source": [
        "# Take input from user\n",
        "numbers = input(\"Enter a series of numbers separated by spaces: \")\n",
        "\n",
        "# Convert input string to list of integers\n",
        "numbers_list = list(map(int, numbers.split()))\n",
        "\n",
        "# Initialize variables\n",
        "even_count = 0\n",
        "odd_count = 0\n",
        "\n",
        "# Count the number of even and odd numbers using a for loop\n",
        "for num in numbers_list:\n",
        "    if num % 2 == 0:\n",
        "        even_count += 1\n",
        "    else:\n",
        "        odd_count += 1\n",
        "\n",
        "# Print the number of even and odd numbers\n",
        "print(\"Number of even numbers:\", even_count)\n",
        "print(\"Number of odd numbers:\", odd_count)"
      ],
      "metadata": {
        "id": "2llVooNR0SS6"
      },
      "execution_count": null,
      "outputs": []
    }
  ]
}