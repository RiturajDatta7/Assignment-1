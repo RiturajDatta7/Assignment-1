{
  "nbformat": 4,
  "nbformat_minor": 0,
  "metadata": {
    "colab": {
      "provenance": []
    },
    "kernelspec": {
      "name": "python3",
      "display_name": "Python 3"
    },
    "language_info": {
      "name": "python"
    }
  },
  "cells": [
    {
      "cell_type": "markdown",
      "source": [
        "ASSIGNMENT-1: Operators | Loops"
      ],
      "metadata": {
        "id": "-n78hK-JpyyQ"
      }
    },
    {
      "cell_type": "markdown",
      "source": [
        "Lets Play With Fibonacci\n",
        "\n",
        "\n",
        "Write a Python program to get the Fibonacci series between 0 to 50\n",
        "\n",
        "\n",
        "\n",
        "Note : The Fibonacci Sequence is the series of numbers :\n",
        "\n",
        "0, 1, 1, 2, 3, 5, 8, 13, 21, ....\n",
        "\n",
        "Every next number is found by adding up the two numbers before it.\n",
        "\n",
        "Expected Output : 1 1 2 3 5 8 13 21 34\n",
        "\n"
      ],
      "metadata": {
        "id": "ww9wZMiZqC0e"
      }
    },
    {
      "cell_type": "code",
      "source": [
        "# Function to generate Fibonacci series\n",
        "def fibonacci_series(n):\n",
        "    fib_series = []\n",
        "    a, b = 0, 1\n",
        "    while a <= n:\n",
        "        fib_series.append(a)\n",
        "        a, b = b, a + b\n",
        "    return fib_series\n",
        "\n",
        "# Get user input\n",
        "try:\n",
        "    n = int(input(\"Enter the upper limit for Fibonacci series (<= 50): \"))\n",
        "    if n > 50:\n",
        "        print(\"Please enter a number less than or equal to 50.\")\n",
        "    else:\n",
        "# Generate and print Fibonacci series\n",
        "        print(\"Fibonacci series between 0 and\", n, \"is:\")\n",
        "        result = fibonacci_series(n)\n",
        "        print(result)\n",
        "except ValueError:\n",
        "    print(\"Invalid input. Please enter a valid number.\")"
      ],
      "metadata": {
        "colab": {
          "base_uri": "https://localhost:8080/"
        },
        "id": "Rl9Bn3n-qYfO",
        "outputId": "21dd5dc5-1490-44af-e07f-efd99f4585b2"
      },
      "execution_count": 1,
      "outputs": [
        {
          "output_type": "stream",
          "name": "stdout",
          "text": [
            "Enter the upper limit for Fibonacci series (<= 50): 49\n",
            "Fibonacci series between 0 and 49 is:\n",
            "[0, 1, 1, 2, 3, 5, 8, 13, 21, 34]\n"
          ]
        }
      ]
    }
  ]
}