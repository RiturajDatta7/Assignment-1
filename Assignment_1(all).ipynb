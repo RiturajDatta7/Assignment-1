{
  "nbformat": 4,
  "nbformat_minor": 0,
  "metadata": {
    "colab": {
      "provenance": []
    },
    "kernelspec": {
      "name": "python3",
      "display_name": "Python 3"
    },
    "language_info": {
      "name": "python"
    }
  },
  "cells": [
    {
      "cell_type": "markdown",
      "source": [
        "ASSIGNMENT-1: Operators | Loops"
      ],
      "metadata": {
        "id": "5ReUZxV_zKJM"
      }
    },
    {
      "cell_type": "markdown",
      "source": [
        "Lets Play With Fibonacci\n",
        "\n",
        "Write a Python program to get the Fibonacci series between 0 to 50\n",
        "\n",
        "Note : The Fibonacci Sequence is the series of numbers :\n",
        "\n",
        "0, 1, 1, 2, 3, 5, 8, 13, 21, ....\n",
        "\n",
        "Every next number is found by adding up the two numbers before it.\n",
        "\n",
        "Expected Output : 1 1 2 3 5 8 13 21 34"
      ],
      "metadata": {
        "id": "1qsnI2ZTzdZk"
      }
    },
    {
      "cell_type": "code",
      "execution_count": 1,
      "metadata": {
        "colab": {
          "base_uri": "https://localhost:8080/"
        },
        "id": "0v7Z7goAt9oh",
        "outputId": "50bebebe-9ce4-482a-db36-8b1e567ea76e"
      },
      "outputs": [
        {
          "output_type": "stream",
          "name": "stdout",
          "text": [
            "Enter the upper limit for Fibonacci series (<= 50): 50\n",
            "Fibonacci series between 0 and 50 is:\n",
            "[0, 1, 1, 2, 3, 5, 8, 13, 21, 34]\n"
          ]
        }
      ],
      "source": [
        "# Function to generate Fibonacci series\n",
        "def fibonacci_series(n):\n",
        "    fib_series = []\n",
        "    a, b = 0, 1\n",
        "    while a <= n:\n",
        "        fib_series.append(a)\n",
        "        a, b = b, a + b\n",
        "    return fib_series\n",
        "\n",
        "# Get user input\n",
        "try:\n",
        "    n = int(input(\"Enter the upper limit for Fibonacci series (<= 50): \"))\n",
        "    if n > 50:\n",
        "        print(\"Please enter a number less than or equal to 50.\")\n",
        "    else:\n",
        "# Generate and print Fibonacci series\n",
        "        print(\"Fibonacci series between 0 and\", n, \"is:\")\n",
        "        result = fibonacci_series(n)\n",
        "        print(result)\n",
        "except ValueError:\n",
        "    print(\"Invalid input. Please enter a valid number.\")"
      ]
    },
    {
      "cell_type": "markdown",
      "source": [
        "Send the Words To Mirror Dimension\n",
        "\n",
        "Write a Python program that accepts a word from the user and reverse it."
      ],
      "metadata": {
        "id": "TlO2eByRzMT1"
      }
    },
    {
      "cell_type": "code",
      "source": [
        "# Take input from user\n",
        "word = input(\"Input: \")\n",
        "\n",
        "# Initialize variables\n",
        "reversed_word = \"\"\n",
        "\n",
        "# Reverse the word using a for loop\n",
        "for i in range(len(word)-1, -1, -1):\n",
        "    reversed_word += word[i]\n",
        "\n",
        "# Print the reversed word\n",
        "print(\"Output:\", reversed_word)"
      ],
      "metadata": {
        "colab": {
          "base_uri": "https://localhost:8080/"
        },
        "id": "S2e251iWuByh",
        "outputId": "b8eaee50-fb3a-42d1-fe6f-e08be9a96786"
      },
      "execution_count": 2,
      "outputs": [
        {
          "output_type": "stream",
          "name": "stdout",
          "text": [
            "Input: Edyoda\n",
            "Output: adoydE\n"
          ]
        }
      ]
    },
    {
      "cell_type": "markdown",
      "source": [
        "Don't go Outside in Odd day\n",
        "\n",
        "Write a Python program to count the number of even and odd numbers from a series of numbers."
      ],
      "metadata": {
        "id": "CgqtY1bBzluO"
      }
    },
    {
      "cell_type": "code",
      "source": [
        "# Take input from user\n",
        "numbers = input(\"Enter a series of numbers separated by spaces: \")\n",
        "\n",
        "# Convert input string to list of integers\n",
        "numbers_list = list(map(int, numbers.split()))\n",
        "\n",
        "# Initialize variables\n",
        "even_count = 0\n",
        "odd_count = 0\n",
        "\n",
        "# Count the number of even and odd numbers using a for loop\n",
        "for num in numbers_list:\n",
        "    if num % 2 == 0:\n",
        "        even_count += 1\n",
        "    else:\n",
        "        odd_count += 1\n",
        "\n",
        "# Print the number of even and odd numbers\n",
        "print(\"Number of even numbers:\", even_count)\n",
        "print(\"Number of odd numbers:\", odd_count)"
      ],
      "metadata": {
        "id": "c3JhNqS631ba"
      },
      "execution_count": null,
      "outputs": []
    }
  ]
}