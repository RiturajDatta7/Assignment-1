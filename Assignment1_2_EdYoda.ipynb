{
  "nbformat": 4,
  "nbformat_minor": 0,
  "metadata": {
    "colab": {
      "provenance": []
    },
    "kernelspec": {
      "name": "python3",
      "display_name": "Python 3"
    },
    "language_info": {
      "name": "python"
    }
  },
  "cells": [
    {
      "cell_type": "markdown",
      "source": [
        "ASSIGNMENT-1: Operators | Loops"
      ],
      "metadata": {
        "id": "WFS2p-W2xOXJ"
      }
    },
    {
      "cell_type": "markdown",
      "source": [
        "Send the Words To Mirror Dimension\n",
        "\n",
        "Write a Python program that accepts a word from the user and reverse it.\n"
      ],
      "metadata": {
        "id": "qKRsI50kxWwM"
      }
    },
    {
      "cell_type": "code",
      "source": [
        "# Take input from user\n",
        "word = input(\"Input: \")\n",
        "\n",
        "# Initialize variables\n",
        "reversed_word = \"\"\n",
        "\n",
        "# Reverse the word using a for loop\n",
        "for i in range(len(word)-1, -1, -1):\n",
        "    reversed_word += word[i]\n",
        "\n",
        "# Print the reversed word\n",
        "print(\"Output:\", reversed_word)"
      ],
      "metadata": {
        "colab": {
          "base_uri": "https://localhost:8080/"
        },
        "id": "Ous6NYi2xcGR",
        "outputId": "c6f088bd-b09b-47d5-c5f0-469137cb461d"
      },
      "execution_count": 2,
      "outputs": [
        {
          "output_type": "stream",
          "name": "stdout",
          "text": [
            "Input: Edyoda\n",
            "Output: adoydE\n"
          ]
        }
      ]
    }
  ]
}